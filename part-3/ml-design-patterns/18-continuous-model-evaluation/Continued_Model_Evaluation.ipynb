{
  "cells": [
    {
      "cell_type": "markdown",
      "metadata": {
        "id": "HUi7aXd-jYbi"
      },
      "source": [
        "# Continuous Evaluation\n",
        "\n",
        "This notebook demonstrates how to use Cloud AI Platform to execute continuous evaluation of a deployed machine learning model. You'll need to have a project set up with Google Cloud Platform. "
      ]
    },
    {
      "cell_type": "markdown",
      "metadata": {
        "id": "wUp_78OSjYbj"
      },
      "source": [
        "## Set up\n",
        "Start by creating environment variables for your Google Cloud project and bucket. Also, import the libraries we'll need for this notebook."
      ]
    },
    {
      "cell_type": "code",
      "execution_count": null,
      "metadata": {
        "id": "l4YFX-gpjYbj"
      },
      "outputs": [],
      "source": [
        "# change these to try this notebook out\n",
        "PROJECT = 'sample'\n",
        "BUCKET = 'sample'"
      ]
    },
    {
      "cell_type": "code",
      "execution_count": null,
      "metadata": {
        "id": "RSiLAm0zjYbj"
      },
      "outputs": [],
      "source": [
        "import os\n",
        "os.environ['BUCKET'] = BUCKET\n",
        "os.environ['PROJECT'] = PROJECT\n",
        "os.environ['TFVERSION'] = '2.1'"
      ]
    },
    {
      "cell_type": "code",
      "execution_count": null,
      "metadata": {
        "colab": {
          "base_uri": "https://localhost:8080/"
        },
        "id": "NFSo14dKjYbj",
        "outputId": "0bcc8a0e-c722-48e4-dc5b-81b2a5b63514"
      },
      "outputs": [
        {
          "name": "stdout",
          "output_type": "stream",
          "text": [
            "2.8.2\n"
          ]
        }
      ],
      "source": [
        "import shutil\n",
        "\n",
        "import pandas as pd\n",
        "import tensorflow as tf\n",
        "\n",
        "from google.cloud import bigquery\n",
        "from tensorflow.keras.utils import to_categorical\n",
        "from tensorflow.keras.callbacks import EarlyStopping\n",
        "from tensorflow_hub import KerasLayer\n",
        "from tensorflow.keras.layers import Dense, Input, Lambda\n",
        "from tensorflow.keras.models import Model\n",
        "print(tf.__version__)\n",
        "\n",
        "%matplotlib inline"
      ]
    },
    {
      "cell_type": "markdown",
      "metadata": {
        "id": "ACy_DTMsjYbk"
      },
      "source": [
        "## Train and deploy the model\n",
        "For this notebook, we'll build a text classification model using the Hacker News dataset. Each training example consists of an article title and the article source. The model will be trained to classify a given article title as belonging to either `nytimes`, `github` or `techcrunch`."
      ]
    },
    {
      "cell_type": "markdown",
      "metadata": {
        "id": "Qs0nbD3TjYbk"
      },
      "source": [
        "#### Load the data"
      ]
    },
    {
      "cell_type": "code",
      "execution_count": null,
      "metadata": {
        "colab": {
          "base_uri": "https://localhost:8080/",
          "height": 206
        },
        "id": "czCRIMZrjYbk",
        "outputId": "dc1daaf8-d063-49c2-aa1a-3c29de84421b"
      },
      "outputs": [
        {
          "data": {
            "text/html": [
              "\n",
              "  <div id=\"df-e91cc75b-fdee-4eec-b5c1-34a1de05e4bc\">\n",
              "    <div class=\"colab-df-container\">\n",
              "      <div>\n",
              "<style scoped>\n",
              "    .dataframe tbody tr th:only-of-type {\n",
              "        vertical-align: middle;\n",
              "    }\n",
              "\n",
              "    .dataframe tbody tr th {\n",
              "        vertical-align: top;\n",
              "    }\n",
              "\n",
              "    .dataframe thead th {\n",
              "        text-align: right;\n",
              "    }\n",
              "</style>\n",
              "<table border=\"1\" class=\"dataframe\">\n",
              "  <thead>\n",
              "    <tr style=\"text-align: right;\">\n",
              "      <th></th>\n",
              "      <th>title</th>\n",
              "      <th>source</th>\n",
              "    </tr>\n",
              "  </thead>\n",
              "  <tbody>\n",
              "    <tr>\n",
              "      <th>0</th>\n",
              "      <td>attempts to fix hn comment problems</td>\n",
              "      <td>techcrunch</td>\n",
              "    </tr>\n",
              "    <tr>\n",
              "      <th>1</th>\n",
              "      <td>stop trusting yourself</td>\n",
              "      <td>nytimes</td>\n",
              "    </tr>\n",
              "    <tr>\n",
              "      <th>2</th>\n",
              "      <td>scrollability</td>\n",
              "      <td>github</td>\n",
              "    </tr>\n",
              "    <tr>\n",
              "      <th>3</th>\n",
              "      <td>toward our 3d future</td>\n",
              "      <td>techcrunch</td>\n",
              "    </tr>\n",
              "    <tr>\n",
              "      <th>4</th>\n",
              "      <td>open source mechanical split flap display</td>\n",
              "      <td>github</td>\n",
              "    </tr>\n",
              "  </tbody>\n",
              "</table>\n",
              "</div>\n",
              "      <button class=\"colab-df-convert\" onclick=\"convertToInteractive('df-e91cc75b-fdee-4eec-b5c1-34a1de05e4bc')\"\n",
              "              title=\"Convert this dataframe to an interactive table.\"\n",
              "              style=\"display:none;\">\n",
              "        \n",
              "  <svg xmlns=\"http://www.w3.org/2000/svg\" height=\"24px\"viewBox=\"0 0 24 24\"\n",
              "       width=\"24px\">\n",
              "    <path d=\"M0 0h24v24H0V0z\" fill=\"none\"/>\n",
              "    <path d=\"M18.56 5.44l.94 2.06.94-2.06 2.06-.94-2.06-.94-.94-2.06-.94 2.06-2.06.94zm-11 1L8.5 8.5l.94-2.06 2.06-.94-2.06-.94L8.5 2.5l-.94 2.06-2.06.94zm10 10l.94 2.06.94-2.06 2.06-.94-2.06-.94-.94-2.06-.94 2.06-2.06.94z\"/><path d=\"M17.41 7.96l-1.37-1.37c-.4-.4-.92-.59-1.43-.59-.52 0-1.04.2-1.43.59L10.3 9.45l-7.72 7.72c-.78.78-.78 2.05 0 2.83L4 21.41c.39.39.9.59 1.41.59.51 0 1.02-.2 1.41-.59l7.78-7.78 2.81-2.81c.8-.78.8-2.07 0-2.86zM5.41 20L4 18.59l7.72-7.72 1.47 1.35L5.41 20z\"/>\n",
              "  </svg>\n",
              "      </button>\n",
              "      \n",
              "  <style>\n",
              "    .colab-df-container {\n",
              "      display:flex;\n",
              "      flex-wrap:wrap;\n",
              "      gap: 12px;\n",
              "    }\n",
              "\n",
              "    .colab-df-convert {\n",
              "      background-color: #E8F0FE;\n",
              "      border: none;\n",
              "      border-radius: 50%;\n",
              "      cursor: pointer;\n",
              "      display: none;\n",
              "      fill: #1967D2;\n",
              "      height: 32px;\n",
              "      padding: 0 0 0 0;\n",
              "      width: 32px;\n",
              "    }\n",
              "\n",
              "    .colab-df-convert:hover {\n",
              "      background-color: #E2EBFA;\n",
              "      box-shadow: 0px 1px 2px rgba(60, 64, 67, 0.3), 0px 1px 3px 1px rgba(60, 64, 67, 0.15);\n",
              "      fill: #174EA6;\n",
              "    }\n",
              "\n",
              "    [theme=dark] .colab-df-convert {\n",
              "      background-color: #3B4455;\n",
              "      fill: #D2E3FC;\n",
              "    }\n",
              "\n",
              "    [theme=dark] .colab-df-convert:hover {\n",
              "      background-color: #434B5C;\n",
              "      box-shadow: 0px 1px 3px 1px rgba(0, 0, 0, 0.15);\n",
              "      filter: drop-shadow(0px 1px 2px rgba(0, 0, 0, 0.3));\n",
              "      fill: #FFFFFF;\n",
              "    }\n",
              "  </style>\n",
              "\n",
              "      <script>\n",
              "        const buttonEl =\n",
              "          document.querySelector('#df-e91cc75b-fdee-4eec-b5c1-34a1de05e4bc button.colab-df-convert');\n",
              "        buttonEl.style.display =\n",
              "          google.colab.kernel.accessAllowed ? 'block' : 'none';\n",
              "\n",
              "        async function convertToInteractive(key) {\n",
              "          const element = document.querySelector('#df-e91cc75b-fdee-4eec-b5c1-34a1de05e4bc');\n",
              "          const dataTable =\n",
              "            await google.colab.kernel.invokeFunction('convertToInteractive',\n",
              "                                                     [key], {});\n",
              "          if (!dataTable) return;\n",
              "\n",
              "          const docLinkHtml = 'Like what you see? Visit the ' +\n",
              "            '<a target=\"_blank\" href=https://colab.research.google.com/notebooks/data_table.ipynb>data table notebook</a>'\n",
              "            + ' to learn more about interactive tables.';\n",
              "          element.innerHTML = '';\n",
              "          dataTable['output_type'] = 'display_data';\n",
              "          await google.colab.output.renderOutput(dataTable, element);\n",
              "          const docLink = document.createElement('div');\n",
              "          docLink.innerHTML = docLinkHtml;\n",
              "          element.appendChild(docLink);\n",
              "        }\n",
              "      </script>\n",
              "    </div>\n",
              "  </div>\n",
              "  "
            ],
            "text/plain": [
              "                                       title      source\n",
              "0       attempts to fix hn comment problems   techcrunch\n",
              "1                     stop trusting yourself     nytimes\n",
              "2                              scrollability      github\n",
              "3                       toward our 3d future  techcrunch\n",
              "4  open source mechanical split flap display      github"
            ]
          },
          "execution_count": 68,
          "metadata": {},
          "output_type": "execute_result"
        }
      ],
      "source": [
        "DATASET_NAME = \"https://fhstp.s3.eu-central-1.amazonaws.com/titles_full.csv\"\n",
        "COLUMNS = ['title', 'source']\n",
        "\n",
        "titles_df = pd.read_csv(DATASET_NAME, header=None, names=COLUMNS)\n",
        "titles_df.head()"
      ]
    },
    {
      "cell_type": "markdown",
      "metadata": {
        "id": "3vNV2RfkjYbk"
      },
      "source": [
        " We one-hot encode the label..."
      ]
    },
    {
      "cell_type": "code",
      "execution_count": null,
      "metadata": {
        "id": "t0ScutFPjYbk"
      },
      "outputs": [],
      "source": [
        "CLASSES = {\n",
        "    'github': 0,\n",
        "    'nytimes': 1,\n",
        "    'techcrunch': 2\n",
        "}\n",
        "N_CLASSES = len(CLASSES)"
      ]
    },
    {
      "cell_type": "code",
      "execution_count": null,
      "metadata": {
        "id": "HO6O50_sjYbk"
      },
      "outputs": [],
      "source": [
        "def encode_labels(sources):\n",
        "    classes = [CLASSES[source] for source in sources]\n",
        "    one_hots = to_categorical(classes, num_classes=N_CLASSES)\n",
        "    return one_hots"
      ]
    },
    {
      "cell_type": "code",
      "execution_count": null,
      "metadata": {
        "colab": {
          "base_uri": "https://localhost:8080/"
        },
        "id": "pgTmP1WljYbk",
        "outputId": "02387533-20b8-4f6e-d063-96287c7b366c"
      },
      "outputs": [
        {
          "data": {
            "text/plain": [
              "array([[0., 0., 1.],\n",
              "       [0., 1., 0.],\n",
              "       [1., 0., 0.],\n",
              "       [0., 0., 1.]], dtype=float32)"
            ]
          },
          "execution_count": 71,
          "metadata": {},
          "output_type": "execute_result"
        }
      ],
      "source": [
        "encode_labels(titles_df.source[:4])"
      ]
    },
    {
      "cell_type": "markdown",
      "metadata": {
        "id": "L2UPaSe-jYbk"
      },
      "source": [
        "...and create a train/test split."
      ]
    },
    {
      "cell_type": "code",
      "execution_count": null,
      "metadata": {
        "id": "tGEwK9dJjYbk"
      },
      "outputs": [],
      "source": [
        "N_TRAIN = int(len(titles_df) * 0.80)\n",
        "\n",
        "titles_train, sources_train = (\n",
        "    titles_df.title[:N_TRAIN], titles_df.source[:N_TRAIN])\n",
        "\n",
        "titles_valid, sources_valid = (\n",
        "    titles_df.title[N_TRAIN:], titles_df.source[N_TRAIN:])"
      ]
    },
    {
      "cell_type": "code",
      "execution_count": null,
      "metadata": {
        "id": "r3lPYNfkjYbl"
      },
      "outputs": [],
      "source": [
        "X_train, Y_train = titles_train.values, encode_labels(sources_train)\n",
        "X_valid, Y_valid = titles_valid.values, encode_labels(sources_valid)"
      ]
    },
    {
      "cell_type": "code",
      "execution_count": null,
      "metadata": {
        "colab": {
          "base_uri": "https://localhost:8080/"
        },
        "id": "o_YXipGajYbl",
        "outputId": "abd4114b-74e4-4cae-b226-d2b67948cf4b"
      },
      "outputs": [
        {
          "data": {
            "text/plain": [
              "array(['attempts to fix hn comment problems ', 'stop trusting yourself',\n",
              "       'scrollability'], dtype=object)"
            ]
          },
          "execution_count": 74,
          "metadata": {},
          "output_type": "execute_result"
        }
      ],
      "source": [
        "X_train[:3]"
      ]
    },
    {
      "cell_type": "markdown",
      "metadata": {
        "id": "AdXazy8PjYbl"
      },
      "source": [
        "### Swivel Model\n",
        "\n",
        "We'll build a simple text classification model using a Tensorflow Hub embedding module derived from Swivel. [Swivel](https://arxiv.org/abs/1602.02215) is an algorithm that essentially factorizes word co-occurrence matrices to create the words embeddings. \n",
        "TF-Hub hosts the pretrained [gnews-swivel-20dim-with-oov](https://tfhub.dev/google/tf2-preview/gnews-swivel-20dim-with-oov/1) 20-dimensional Swivel module."
      ]
    },
    {
      "cell_type": "code",
      "execution_count": null,
      "metadata": {
        "id": "29cxn3BijYbl"
      },
      "outputs": [],
      "source": [
        "SWIVEL = \"https://tfhub.dev/google/tf2-preview/gnews-swivel-20dim-with-oov/1\"\n",
        "swivel_module = KerasLayer(SWIVEL, output_shape=[20], input_shape=[], dtype=tf.string, trainable=True)"
      ]
    },
    {
      "cell_type": "markdown",
      "metadata": {
        "id": "gNkLqWCgjYbl"
      },
      "source": [
        "The `build_model` function is written so that the TF Hub module can easily be exchanged with another module."
      ]
    },
    {
      "cell_type": "code",
      "execution_count": null,
      "metadata": {
        "id": "dkzEX5H_jYbl"
      },
      "outputs": [],
      "source": [
        "def build_model(hub_module, model_name):\n",
        "    inputs = Input(shape=[], dtype=tf.string, name=\"text\")\n",
        "    module = hub_module(inputs)\n",
        "    h1 = Dense(16, activation='relu', name=\"h1\")(module)\n",
        "    outputs = Dense(N_CLASSES, activation='softmax', name='outputs')(h1)\n",
        "    model = Model(inputs=inputs, outputs=[outputs], name=model_name)\n",
        "    \n",
        "    model.compile(\n",
        "        optimizer='adam',\n",
        "        loss='categorical_crossentropy',\n",
        "        metrics=['accuracy']\n",
        "    )\n",
        "    return model"
      ]
    },
    {
      "cell_type": "code",
      "execution_count": null,
      "metadata": {
        "id": "fGfgqt4QjYbl"
      },
      "outputs": [],
      "source": [
        "def train_and_evaluate(train_data, val_data, model, batch_size=5000):\n",
        "    tf.random.set_seed(33)    \n",
        "    X_train, Y_train = train_data\n",
        "\n",
        "    history = model.fit(\n",
        "        X_train, Y_train,\n",
        "        epochs=100,\n",
        "        batch_size=batch_size,\n",
        "        validation_data=val_data,\n",
        "        callbacks=[EarlyStopping()],\n",
        "    )\n",
        "    return history"
      ]
    },
    {
      "cell_type": "code",
      "execution_count": null,
      "metadata": {
        "id": "srkR1ggvjYbl"
      },
      "outputs": [],
      "source": [
        "txtcls_model = build_model(swivel_module, model_name='txtcls_swivel')"
      ]
    },
    {
      "cell_type": "code",
      "execution_count": null,
      "metadata": {
        "colab": {
          "base_uri": "https://localhost:8080/"
        },
        "id": "x6-6lqV2jYbl",
        "outputId": "83fa8ba9-85b2-4826-f29b-32565dbf7ed7"
      },
      "outputs": [
        {
          "name": "stdout",
          "output_type": "stream",
          "text": [
            "Model: \"txtcls_swivel\"\n",
            "_________________________________________________________________\n",
            " Layer (type)                Output Shape              Param #   \n",
            "=================================================================\n",
            " text (InputLayer)           [(None,)]                 0         \n",
            "                                                                 \n",
            " keras_layer_2 (KerasLayer)  (None, 20)                389380    \n",
            "                                                                 \n",
            " h1 (Dense)                  (None, 16)                336       \n",
            "                                                                 \n",
            " outputs (Dense)             (None, 3)                 51        \n",
            "                                                                 \n",
            "=================================================================\n",
            "Total params: 389,767\n",
            "Trainable params: 389,767\n",
            "Non-trainable params: 0\n",
            "_________________________________________________________________\n"
          ]
        }
      ],
      "source": [
        "txtcls_model.summary()"
      ]
    },
    {
      "cell_type": "markdown",
      "metadata": {
        "id": "RORs-KagjYbl"
      },
      "source": [
        "### Train and evaluation the model\n",
        "With the model defined and data set up, next we'll train and evaluate the model."
      ]
    },
    {
      "cell_type": "code",
      "execution_count": null,
      "metadata": {
        "id": "qk_THDkWjYbm"
      },
      "outputs": [],
      "source": [
        "# set up train and validation data\n",
        "train_data = (X_train, Y_train)\n",
        "val_data = (X_valid, Y_valid)"
      ]
    },
    {
      "cell_type": "markdown",
      "metadata": {
        "id": "uRSDZKiTjYbm"
      },
      "source": [
        "For training we'll call `train_and_evaluate` on `txtcls_model`."
      ]
    },
    {
      "cell_type": "code",
      "execution_count": null,
      "metadata": {
        "colab": {
          "base_uri": "https://localhost:8080/"
        },
        "id": "erTWj3EXjYbm",
        "outputId": "0f61907a-6428-4031-e77c-f0edb8f8103d"
      },
      "outputs": [
        {
          "name": "stdout",
          "output_type": "stream",
          "text": [
            "Epoch 1/100\n",
            "16/16 [==============================] - 1s 39ms/step - loss: 1.1976 - accuracy: 0.3181 - val_loss: 1.1347 - val_accuracy: 0.3550\n",
            "Epoch 2/100\n",
            "16/16 [==============================] - 0s 28ms/step - loss: 1.0960 - accuracy: 0.3949 - val_loss: 1.0584 - val_accuracy: 0.4344\n"
          ]
        }
      ],
      "source": [
        "txtcls_history = train_and_evaluate(train_data, val_data, txtcls_model)"
      ]
    },
    {
      "cell_type": "code",
      "execution_count": null,
      "metadata": {
        "colab": {
          "base_uri": "https://localhost:8080/",
          "height": 535
        },
        "id": "18OPv1ubjYbm",
        "outputId": "a44af4e0-2338-469c-9aad-d6faa939f519"
      },
      "outputs": [
        {
          "data": {
            "text/plain": [
              "<matplotlib.axes._subplots.AxesSubplot at 0x7fd38d3d1d90>"
            ]
          },
          "execution_count": 82,
          "metadata": {},
          "output_type": "execute_result"
        },
        {
          "data": {
            "image/png": "[encoded data removed]",
            "text/plain": [
              "<Figure size 432x288 with 1 Axes>"
            ]
          },
          "metadata": {},
          "output_type": "display_data"
        },
        {
          "data": {
            "image/png": "[encoded data removed]",
            "text/plain": [
              "<Figure size 432x288 with 1 Axes>"
            ]
          },
          "metadata": {},
          "output_type": "display_data"
        }
      ],
      "source": [
        "history = txtcls_history\n",
        "pd.DataFrame(history.history)[['loss', 'val_loss']].plot()\n",
        "pd.DataFrame(history.history)[['accuracy', 'val_accuracy']].plot()"
      ]
    },
    {
      "cell_type": "markdown",
      "metadata": {
        "id": "ZkV_kQ9hjYbm"
      },
      "source": [
        "Calling predicition from model head produces output from final dense layer. This final layer is used to compute categorical cross-entropy when training. "
      ]
    },
    {
      "cell_type": "code",
      "execution_count": null,
      "metadata": {
        "colab": {
          "base_uri": "https://localhost:8080/"
        },
        "id": "8bJ4GiRpjYbm",
        "outputId": "95bb4e68-8f8d-4a34-8093-1c92b3c75a02"
      },
      "outputs": [
        {
          "data": {
            "text/plain": [
              "array([[0.39034337, 0.36304933, 0.2466073 ]], dtype=float32)"
            ]
          },
          "execution_count": 83,
          "metadata": {},
          "output_type": "execute_result"
        }
      ],
      "source": [
        "txtcls_model.predict(x=[\"YouTube introduces Video Chapters to make it easier to navigate longer videos\"])"
      ]
    },
    {
      "cell_type": "markdown",
      "metadata": {
        "id": "4n6oMH7TjYbm"
      },
      "source": [
        "We can save the model artifacts in the local directory called `./txtcls_swivel`."
      ]
    },
    {
      "cell_type": "code",
      "execution_count": null,
      "metadata": {
        "colab": {
          "base_uri": "https://localhost:8080/"
        },
        "id": "zTZjI1EBjYbm",
        "outputId": "7fe583b8-b95d-4082-bcaf-8607fd147862"
      },
      "outputs": [
        {
          "name": "stderr",
          "output_type": "stream",
          "text": [
            "WARNING:absl:Found untraced functions such as _destroy_resource while saving (showing 1 of 1). These functions will not be directly callable after loading.\n"
          ]
        }
      ],
      "source": [
        "tf.saved_model.save(txtcls_model, './txtcls_swivel/')"
      ]
    },
    {
      "cell_type": "markdown",
      "metadata": {
        "id": "GB6a_ZPajYbm"
      },
      "source": [
        "....and examine the model's serving default signature. As expected the model takes as input a text string (e.g. an article title) and retrns a 3-dimensional vector of floats (i.e. the softmax output layer)."
      ]
    },
    {
      "cell_type": "code",
      "execution_count": null,
      "metadata": {
        "colab": {
          "base_uri": "https://localhost:8080/"
        },
        "id": "R-q2mQsqjYbm",
        "outputId": "8fb28378-032f-40f3-c866-83395ec4781c"
      },
      "outputs": [
        {
          "name": "stdout",
          "output_type": "stream",
          "text": [
            "The given SavedModel SignatureDef contains the following input(s):\n",
            "  inputs['text'] tensor_info:\n",
            "      dtype: DT_STRING\n",
            "      shape: (-1)\n",
            "      name: serving_default_text:0\n",
            "The given SavedModel SignatureDef contains the following output(s):\n",
            "  outputs['outputs'] tensor_info:\n",
            "      dtype: DT_FLOAT\n",
            "      shape: (-1, 3)\n",
            "      name: StatefulPartitionedCall_2:0\n",
            "Method name is: tensorflow/serving/predict\n"
          ]
        }
      ],
      "source": [
        "!saved_model_cli show \\\n",
        " --tag_set serve \\\n",
        " --signature_def serving_default \\\n",
        " --dir ./txtcls_swivel/"
      ]
    },
    {
      "cell_type": "markdown",
      "metadata": {
        "id": "j855pHAkjYbm"
      },
      "source": [
        "To simplify the returned predictions, we'll modify the model signature so that the model outputs the predicted article source (either `nytimes`, `techcrunch`, or `github`) rather than the final softmax layer. We'll also return the 'confidence' of the model's prediction. This will be the softmax value corresonding to the predicted article source."
      ]
    },
    {
      "cell_type": "code",
      "execution_count": null,
      "metadata": {
        "id": "D6BGl0zljYbm"
      },
      "outputs": [],
      "source": [
        "@tf.function(input_signature=[tf.TensorSpec([None], dtype=tf.string)])\n",
        "def source_name(text):\n",
        "    labels = tf.constant(['github', 'nytimes', 'techcrunch'], dtype=tf.string)\n",
        "    probs = txtcls_model(text, training=False)\n",
        "    indices = tf.argmax(probs, axis=1)\n",
        "    pred_source = tf.gather(params=labels, indices=indices)\n",
        "    pred_confidence = tf.reduce_max(probs, axis=1)\n",
        "    \n",
        "    return {'source': pred_source,\n",
        "            'confidence': pred_confidence}"
      ]
    },
    {
      "cell_type": "markdown",
      "metadata": {
        "id": "4YmonWEKjYbm"
      },
      "source": [
        "Now, we'll re-save the new Swivel model that has this updated model signature by referencing the `source_name` function for the model's `serving_default`."
      ]
    },
    {
      "cell_type": "code",
      "execution_count": null,
      "metadata": {
        "colab": {
          "base_uri": "https://localhost:8080/"
        },
        "id": "qb5CD3CejYbm",
        "outputId": "171e39e5-63d0-450c-a1d2-8c4b4ee39a37"
      },
      "outputs": [
        {
          "name": "stderr",
          "output_type": "stream",
          "text": [
            "WARNING:absl:Found untraced functions such as _destroy_resource while saving (showing 1 of 1). These functions will not be directly callable after loading.\n"
          ]
        }
      ],
      "source": [
        "shutil.rmtree('./txtcls_swivel', ignore_errors=True)\n",
        "txtcls_model.save('./txtcls_swivel', signatures={'serving_default': source_name})"
      ]
    },
    {
      "cell_type": "markdown",
      "metadata": {
        "id": "_5UP5eK8jYbm"
      },
      "source": [
        "Examine the model signature to confirm the changes:"
      ]
    },
    {
      "cell_type": "code",
      "execution_count": null,
      "metadata": {
        "colab": {
          "base_uri": "https://localhost:8080/"
        },
        "id": "AY9Fs8A7jYbn",
        "outputId": "c0fa2930-7d99-402f-c535-bcc3c40d9626"
      },
      "outputs": [
        {
          "name": "stdout",
          "output_type": "stream",
          "text": [
            "The given SavedModel SignatureDef contains the following input(s):\n",
            "  inputs['text'] tensor_info:\n",
            "      dtype: DT_STRING\n",
            "      shape: (-1)\n",
            "      name: serving_default_text:0\n",
            "The given SavedModel SignatureDef contains the following output(s):\n",
            "  outputs['confidence'] tensor_info:\n",
            "      dtype: DT_FLOAT\n",
            "      shape: (-1)\n",
            "      name: StatefulPartitionedCall_2:0\n",
            "  outputs['source'] tensor_info:\n",
            "      dtype: DT_STRING\n",
            "      shape: (-1)\n",
            "      name: StatefulPartitionedCall_2:1\n",
            "Method name is: tensorflow/serving/predict\n"
          ]
        }
      ],
      "source": [
        "!saved_model_cli show \\\n",
        " --tag_set serve \\\n",
        " --signature_def serving_default \\\n",
        " --dir ./txtcls_swivel/"
      ]
    },
    {
      "cell_type": "markdown",
      "metadata": {
        "id": "L5SSXj9ajYbn"
      },
      "source": [
        "Now when we call predictions using the updated serving input function, the model will return the predicted article source as a readable string, and the model's confidence for that prediction."
      ]
    },
    {
      "cell_type": "code",
      "execution_count": null,
      "metadata": {
        "id": "xnueKb_CjYbn"
      },
      "outputs": [],
      "source": [
        "title1 = \"House Passes Sweeping Policing Bill Targeting Racial Bias and Use of Force\"\n",
        "title2 = \"YouTube introduces Video Chapters to make it easier to navigate longer videos\"\n",
        "title3 = \"As facebook turns 10  zuckerberg wants to change how tech industry works\"\n",
        "\n",
        "restored = tf.keras.models.load_model('./txtcls_swivel')\n",
        "infer = restored.signatures['serving_default']\n",
        "outputs = infer(text=tf.constant([title1, title2, title3]))"
      ]
    },
    {
      "cell_type": "code",
      "execution_count": null,
      "metadata": {
        "colab": {
          "base_uri": "https://localhost:8080/"
        },
        "id": "XTFd4nDSjYbn",
        "outputId": "2a325199-50ce-4c92-8073-9a988fb88499"
      },
      "outputs": [
        {
          "name": "stdout",
          "output_type": "stream",
          "text": [
            "[b'techcrunch' b'github' b'techcrunch']\n",
            "[0.53600144 0.39034343 0.38142794]\n"
          ]
        }
      ],
      "source": [
        "print(outputs['source'].numpy())\n",
        "print(outputs['confidence'].numpy())"
      ]
    },
    {
      "cell_type": "markdown",
      "metadata": {
        "id": "jIQNfoxijYbn"
      },
      "source": [
        "### Deploy the model for online serving\n",
        "\n",
        "Once the model is trained and the assets saved, deploying the model to GCP is straightforward. After some time you should be able to see your deployed model and its version on the [model page of GCP console](https://console.cloud.google.com/ai-platform/models)."
      ]
    },
    {
      "cell_type": "code",
      "execution_count": null,
      "metadata": {
        "colab": {
          "base_uri": "https://localhost:8080/"
        },
        "id": "GGcjjwT97LLe",
        "outputId": "6c96229a-78a9-456d-9044-8280ed00165f"
      },
      "outputs": [
        {
          "name": "stdout",
          "output_type": "stream",
          "text": [
            "Updated property [core/project].\n"
          ]
        }
      ],
      "source": [
        "from google.colab import auth\n",
        "auth.authenticate_user()\n",
        "\n",
        "!gcloud config set project \"ccse-ws-2022\""
      ]
    },
    {
      "cell_type": "code",
      "execution_count": null,
      "metadata": {
        "colab": {
          "base_uri": "https://localhost:8080/"
        },
        "id": "K5uNjfq9jYbn",
        "outputId": "bb4b5365-093e-4450-8904-36f5cd888456"
      },
      "outputs": [
        {
          "name": "stdout",
          "output_type": "stream",
          "text": [
            "\u001b[1;31mERROR:\u001b[0m (gcloud.ai-platform.models.create) argument MODEL: Must be specified.\n",
            "Usage: gcloud ai-platform models create MODEL [optional flags]\n",
            "  optional flags may be  --description | --enable-logging | --help | --labels |\n",
            "                         --region | --regions\n",
            "\n",
            "For detailed information on this command and its flags, run:\n",
            "  gcloud ai-platform models create --help\n",
            "\u001b[1;31mERROR:\u001b[0m (gcloud.ai-platform.versions.create) argument --model: expected one argument\n",
            "Usage: gcloud ai-platform versions create VERSION --model=MODEL [optional flags]\n",
            "  optional flags may be  --accelerator | --async | --config | --description |\n",
            "                         --framework | --help | --labels | --machine-type |\n",
            "                         --max-nodes | --metric-targets | --min-nodes |\n",
            "                         --origin | --python-version | --region |\n",
            "                         --runtime-version | --staging-bucket\n",
            "\n",
            "For detailed information on this command and its flags, run:\n",
            "  gcloud ai-platform versions create --help\n"
          ]
        }
      ],
      "source": [
        "MODEL_NAME=\"txtcls\"\n",
        "MODEL_VERSION=\"swivel\"\n",
        "MODEL_LOCATION=\"./txtcls_swivel/\"\n",
        "\n",
        "!gcloud ai-platform models create \"txtcls\"\n",
        "\n",
        "!gcloud ai-platform versions create \"swivel\" \\\n",
        "--model \"txtcls\" \\\n",
        "--origin \"./txtcls_swivel\" \\\n",
        "--staging-bucket gs://ccse-ws-2022 \\\n",
        "--runtime-version=2.1"
      ]
    },
    {
      "cell_type": "markdown",
      "metadata": {
        "id": "ONOPxDO7jYbn"
      },
      "source": [
        "## Set up the Evaluation job on CAIP\n",
        "\n",
        "Now that the model is deployed, go to [Cloud AI Platform](https://console.cloud.google.com/ai-platform/models/txtcls/versions) to see the model version you've deployed and [set up an evaluation job](https://console.cloud.google.com/ai-platform/models/txtcls/versions/swivel/evaluation) by clicking on the button called \"Create Evaluation Job\". You will be asked to provide some relevant information:\n",
        " - Job description: txtcls_swivel_eval\n",
        " - Model objective: text classification\n",
        " - Classification type: single-label classification\n",
        " - Prediction label file path for the annotation specification set: When you create an evaluation job on CAIP, you must specify a CSV file that defines your annotation specification set. This file must have one row for every possible label your model outputs during prediction. Each row should be a comma-separated pair containing the label and a description of the label: label-name,description\n",
        " - Daily sample percentage: We'll set this to 100% so that all online predicitons are captured for evaluation.\n",
        " - BigQuery table to house online prediction requests: We'll use the BQ dataset and table `txtcls_eval.swivel`. If you enter a BigQuery table that doesn’t exist, one with that name will be created with the correct schema. \n",
        " - Prediction input\n",
        "     - Data key: this is The key for the raw prediction data. From examining our deployed model signature, the input data key is `text`.\n",
        "     - Data reference key: this is for image models, so we can ignore\n",
        " - Prediction output\n",
        "     - Prediction labels key: This is the prediction key which contains the predicted label (i.e. the article source). For our model, the label key is `source`.\n",
        "     - Prediction score key: This is the prediction key which contains the predicted scores (i.e. the model confidence). For our model, the score key is `confidence`.\n",
        " - Ground-truth method: Check the box that indicates we will provide our own labels, and not use a Human data labeling service.\n",
        " "
      ]
    },
    {
      "cell_type": "markdown",
      "metadata": {
        "id": "Mda3RLwUjYbn"
      },
      "source": [
        "Once the evaluation job is set up, the table will be made in BigQuery to capture the online prediction requests. "
      ]
    },
    {
      "cell_type": "code",
      "execution_count": null,
      "metadata": {
        "id": "V_60E-dzjYbn"
      },
      "outputs": [],
      "source": [
        "%load_ext google.cloud.bigquery"
      ]
    },
    {
      "cell_type": "code",
      "execution_count": null,
      "metadata": {
        "colab": {
          "base_uri": "https://localhost:8080/"
        },
        "id": "zUvE_Q-pjYbn",
        "outputId": "512d007c-d980-4bc5-853d-285abb046518"
      },
      "outputs": [
        {
          "name": "stdout",
          "output_type": "stream",
          "text": [
            "Executing query with job ID: 5c628a78-d3de-40dc-acc7-838d4b34461c\n",
            "\rQuery executing: 0.38s"
          ]
        },
        {
          "name": "stderr",
          "output_type": "stream",
          "text": [
            "\n",
            "ERROR:\n",
            " 404 Not found: Dataset ccse-ws-2022:txtcls_eval was not found in location US\n",
            "\n",
            "(job ID: 5c628a78-d3de-40dc-acc7-838d4b34461c)\n",
            "\n",
            "    -----Query Job SQL Follows-----    \n",
            "\n",
            "    |    .    |    .    |    .    |\n",
            "   1:SELECT * FROM `txtcls_eval.swivel`\n",
            "    |    .    |    .    |    .    |\n"
          ]
        }
      ],
      "source": [
        "%%bigquery --project $PROJECT\n",
        "SELECT * FROM `txtcls_eval.swivel`"
      ]
    },
    {
      "cell_type": "markdown",
      "metadata": {
        "id": "ceDHoMRLjYbn"
      },
      "source": [
        "Now, every time this model version receives an online prediction request, this information will be captured and stored in the BQ table. Note, this happens everytime because we set the sampling proportion to 100%. "
      ]
    },
    {
      "cell_type": "markdown",
      "metadata": {
        "id": "t-dCdT1djYbn"
      },
      "source": [
        "## Send prediction requests to your model"
      ]
    },
    {
      "cell_type": "markdown",
      "metadata": {
        "id": "BkND0v4cjYbo"
      },
      "source": [
        "Here are some article titles and their groundtruth sources that we can test with prediciton.\n",
        "\n",
        "| title  | groundtruth  |\n",
        "|---|---|\n",
        "| YouTube introduces Video Chapters to make it easier to navigate longer videos  |  techcrunch |\n",
        "| A Filmmaker Put Away for Tax Fraud Takes Us Inside a British Prison | nytimes |\n",
        "| A native Mac app wrapper for WhatsApp Web | github |\n",
        "| Astronauts Dock With Space Station After Historic SpaceX Launch | nytimes |\n",
        "| House Passes Sweeping Policing Bill Targeting Racial Bias and Use of Force | nytimes |\n",
        "| Scrollability | github |\n",
        "| iOS 14 lets deaf users set alerts for important sounds, among other clever accessibility perks | techcrunch |"
      ]
    },
    {
      "cell_type": "code",
      "execution_count": null,
      "metadata": {
        "colab": {
          "base_uri": "https://localhost:8080/"
        },
        "id": "wdquL9ECjYbo",
        "outputId": "f6413d27-e47d-460e-d37c-912722f47184"
      },
      "outputs": [
        {
          "name": "stdout",
          "output_type": "stream",
          "text": [
            "Writing input.json\n"
          ]
        }
      ],
      "source": [
        "%%writefile input.json\n",
        "{\"text\": \"YouTube introduces Video Chapters to make it easier to navigate longer videos\"}"
      ]
    },
    {
      "cell_type": "code",
      "execution_count": null,
      "metadata": {
        "colab": {
          "background_save": true,
          "base_uri": "https://localhost:8080/"
        },
        "id": "z_FXTqLdjYbo",
        "outputId": "0d8f58fa-42eb-46f1-f8ea-4a4c115358d3"
      },
      "outputs": [
        {
          "name": "stdout",
          "output_type": "stream",
          "text": [
            "Please specify a region:\n",
            "(For the global endpoint the region needs to be specified as 'global'.)\n",
            " [1] global\n",
            " [2] asia-east1\n",
            " [3] asia-northeast1\n",
            " [4] asia-southeast1\n",
            " [5] australia-southeast1\n",
            " [6] europe-west1\n",
            " [7] europe-west2\n",
            " [8] europe-west3\n",
            " [9] europe-west4\n",
            " [10] northamerica-northeast1\n",
            " [11] us-central1\n",
            " [12] us-east1\n",
            " [13] us-east4\n",
            " [14] us-west1\n",
            " [15] cancel\n",
            "Please enter your numeric choice:  "
          ]
        }
      ],
      "source": [
        "!gcloud ai-platform predict \\\n",
        "  --model txtcls \\\n",
        "  --json-instances input.json \\\n",
        "  --version swivel"
      ]
    },
    {
      "cell_type": "code",
      "execution_count": null,
      "metadata": {
        "id": "kFcGtETtjYbo"
      },
      "outputs": [],
      "source": [
        "%%writefile input.json\n",
        "{\"text\": \"A Filmmaker Put Away for Tax Fraud Takes Us Inside a British Prison\"}"
      ]
    },
    {
      "cell_type": "code",
      "execution_count": null,
      "metadata": {
        "id": "SkxkN7q5jYbo"
      },
      "outputs": [],
      "source": [
        "!gcloud ai-platform predict \\\n",
        "  --model txtcls \\\n",
        "  --json-instances input.json \\\n",
        "  --version swivel"
      ]
    },
    {
      "cell_type": "code",
      "execution_count": null,
      "metadata": {
        "id": "dwCTVeMUjYbo"
      },
      "outputs": [],
      "source": [
        "%%writefile input.json\n",
        "{\"text\": \"A native Mac app wrapper for WhatsApp Web\"}"
      ]
    },
    {
      "cell_type": "code",
      "execution_count": null,
      "metadata": {
        "id": "-Llz5W0YjYbo"
      },
      "outputs": [],
      "source": [
        "!gcloud ai-platform predict \\\n",
        "  --model txtcls \\\n",
        "  --json-instances input.json \\\n",
        "  --version swivel"
      ]
    },
    {
      "cell_type": "code",
      "execution_count": null,
      "metadata": {
        "id": "Pk6ktgOsjYbo"
      },
      "outputs": [],
      "source": [
        "%%writefile input.json\n",
        "{\"text\": \"Astronauts Dock With Space Station After Historic SpaceX Launch\"}"
      ]
    },
    {
      "cell_type": "code",
      "execution_count": null,
      "metadata": {
        "id": "i_6DEk8VjYbo"
      },
      "outputs": [],
      "source": [
        "!gcloud ai-platform predict \\\n",
        "  --model txtcls \\\n",
        "  --json-instances input.json \\\n",
        "  --version swivel"
      ]
    },
    {
      "cell_type": "code",
      "execution_count": null,
      "metadata": {
        "id": "ZpOFwnPKjYbo"
      },
      "outputs": [],
      "source": [
        "%%writefile input.json\n",
        "{\"text\": \"House Passes Sweeping Policing Bill Targeting Racial Bias and Use of Force\"}"
      ]
    },
    {
      "cell_type": "code",
      "execution_count": null,
      "metadata": {
        "id": "Y_tj9e7ZjYbo"
      },
      "outputs": [],
      "source": [
        "!gcloud ai-platform predict \\\n",
        "  --model txtcls \\\n",
        "  --json-instances input.json \\\n",
        "  --version swivel"
      ]
    },
    {
      "cell_type": "code",
      "execution_count": null,
      "metadata": {
        "id": "wC3Uj3nljYbo"
      },
      "outputs": [],
      "source": [
        "%%writefile input.json\n",
        "{\"text\": \"Scrollability\"}"
      ]
    },
    {
      "cell_type": "code",
      "execution_count": null,
      "metadata": {
        "id": "f0q2j4ZGjYbo"
      },
      "outputs": [],
      "source": [
        "!gcloud ai-platform predict \\\n",
        "  --model txtcls \\\n",
        "  --json-instances input.json \\\n",
        "  --version swivel"
      ]
    },
    {
      "cell_type": "code",
      "execution_count": null,
      "metadata": {
        "id": "br9j6h-CjYbo"
      },
      "outputs": [],
      "source": [
        "%%writefile input.json\n",
        "{\"text\": \"iOS 14 lets deaf users set alerts for important sounds, among other clever accessibility perks\"}"
      ]
    },
    {
      "cell_type": "code",
      "execution_count": null,
      "metadata": {
        "id": "S9-cBHWEjYbo"
      },
      "outputs": [],
      "source": [
        "!gcloud ai-platform predict \\\n",
        "  --model txtcls \\\n",
        "  --json-instances input.json \\\n",
        "  --version swivel"
      ]
    },
    {
      "cell_type": "markdown",
      "metadata": {
        "id": "maztsfNujYbo"
      },
      "source": [
        "Summarizing the results from our model:\n",
        "\n",
        "| title  | groundtruth  | predicted\n",
        "|---|---|---|\n",
        "| YouTube introduces Video Chapters to make it easier to navigate longer videos  |  techcrunch | techcrunch |\n",
        "| A Filmmaker Put Away for Tax Fraud Takes Us Inside a British Prison | nytimes | techcrunch |\n",
        "| A native Mac app wrapper for WhatsApp Web | github | techcrunch |\n",
        "| Astronauts Dock With Space Station After Historic SpaceX Launch | nytimes | techcrunch |\n",
        "| House Passes Sweeping Policing Bill Targeting Racial Bias and Use of Force | nytimes | nytimes |\n",
        "| Scrollability | github | techcrunch |\n",
        "| iOS 14 lets deaf users set alerts for important sounds, among other clever accessibility perks | techcrunch | nytimes |"
      ]
    },
    {
      "cell_type": "code",
      "execution_count": null,
      "metadata": {
        "id": "7Mes2Q13jYbo"
      },
      "outputs": [],
      "source": [
        "%%bigquery --project $PROJECT\n",
        "SELECT * FROM `txtcls_eval.swivel`"
      ]
    },
    {
      "cell_type": "markdown",
      "metadata": {
        "id": "Uky3zHn-jYbp"
      },
      "source": [
        "## Provide the ground truth for the raw prediction input\n",
        "\n",
        "Notice the groundtruth is missing. We'll update the evaluation table to contain the ground truth."
      ]
    },
    {
      "cell_type": "code",
      "execution_count": null,
      "metadata": {
        "id": "4ou_o1zMjYbp"
      },
      "outputs": [],
      "source": [
        "%%bigquery --project $PROJECT\n",
        "UPDATE `txtcls_eval.swivel`\n",
        "SET \n",
        "    groundtruth = '{\"predictions\": [{\"source\": \"techcrunch\"}]}'\n",
        "WHERE\n",
        "    raw_data = '{\"instances\": [{\"text\": \"YouTube introduces Video Chapters to make it easier to navigate longer videos\"}]}';"
      ]
    },
    {
      "cell_type": "code",
      "execution_count": null,
      "metadata": {
        "id": "hyRzzZUmjYbp"
      },
      "outputs": [],
      "source": [
        "%%bigquery --project $PROJECT\n",
        "UPDATE `txtcls_eval.swivel`\n",
        "SET \n",
        "    groundtruth = '{\"predictions\": [{\"source\": \"nytimes\"}]}'\n",
        "WHERE\n",
        "    raw_data = '{\"instances\": [{\"text\": \"A Filmmaker Put Away for Tax Fraud Takes Us Inside a British Prison\"}]}';"
      ]
    },
    {
      "cell_type": "code",
      "execution_count": null,
      "metadata": {
        "id": "KhQT22F1jYbp"
      },
      "outputs": [],
      "source": [
        "%%bigquery --project $PROJECT\n",
        "UPDATE `txtcls_eval.swivel`\n",
        "SET \n",
        "    groundtruth = '{\"predictions\": [{\"source\": \"github\"}]}'\n",
        "WHERE\n",
        "    raw_data = '{\"instances\": [{\"text\": \"A native Mac app wrapper for WhatsApp Web\"}]}';"
      ]
    },
    {
      "cell_type": "code",
      "execution_count": null,
      "metadata": {
        "id": "5ttUInp4jYbp"
      },
      "outputs": [],
      "source": [
        "%%bigquery --project $PROJECT\n",
        "UPDATE `txtcls_eval.swivel`\n",
        "SET \n",
        "    groundtruth = '{\"predictions\": [{\"source\": \"nytimes\"}]}'\n",
        "WHERE\n",
        "    raw_data = '{\"instances\": [{\"text\": \"Astronauts Dock With Space Station After Historic SpaceX Launch\"}]}';"
      ]
    },
    {
      "cell_type": "code",
      "execution_count": null,
      "metadata": {
        "id": "ROOXELoPjYbp"
      },
      "outputs": [],
      "source": [
        "%%bigquery --project $PROJECT\n",
        "UPDATE `txtcls_eval.swivel`\n",
        "SET \n",
        "    groundtruth = '{\"predictions\": [{\"source\": \"nytimes\"}]}'\n",
        "WHERE\n",
        "    raw_data = '{\"instances\": [{\"text\": \"House Passes Sweeping Policing Bill Targeting Racial Bias and Use of Force\"}]}';"
      ]
    },
    {
      "cell_type": "code",
      "execution_count": null,
      "metadata": {
        "id": "ITX4ZPUJjYbp"
      },
      "outputs": [],
      "source": [
        "%%bigquery --project $PROJECT\n",
        "UPDATE `txtcls_eval.swivel`\n",
        "SET \n",
        "    groundtruth = '{\"predictions\": [{\"source\": \"github\"}]}'\n",
        "WHERE\n",
        "    raw_data = '{\"instances\": [{\"text\": \"Scrollability\"}]}';"
      ]
    },
    {
      "cell_type": "code",
      "execution_count": null,
      "metadata": {
        "id": "m1BUo9lMjYbp"
      },
      "outputs": [],
      "source": [
        "%%bigquery --project $PROJECT\n",
        "UPDATE `txtcls_eval.swivel`\n",
        "SET \n",
        "    groundtruth = '{\"predictions\": [{\"source\": \"techcrunch\"}]}'\n",
        "WHERE\n",
        "    raw_data = '{\"instances\": [{\"text\": \"iOS 14 lets deaf users set alerts for important sounds, among other clever accessibility perks\"}]}';"
      ]
    },
    {
      "cell_type": "markdown",
      "metadata": {
        "id": "4hXjGGlSjYbp"
      },
      "source": [
        "We can confirm that the ground truch has been properly added to the table. "
      ]
    },
    {
      "cell_type": "code",
      "execution_count": null,
      "metadata": {
        "id": "gMIO8785jYbp"
      },
      "outputs": [],
      "source": [
        "%%bigquery --project $PROJECT\n",
        "SELECT * FROM `txtcls_eval.swivel`"
      ]
    },
    {
      "cell_type": "markdown",
      "metadata": {
        "id": "-sCn8b89jYbp"
      },
      "source": [
        "## Compute evaluation metrics\n",
        "\n",
        "With the raw prediction input, the model output and the groundtruth in one place, we can evaluation how our model performs. And how the model performs across various aspects (e.g. over time, different model versions, different labels, etc)"
      ]
    },
    {
      "cell_type": "code",
      "execution_count": null,
      "metadata": {
        "id": "zYOaFuvljYbp"
      },
      "outputs": [],
      "source": [
        "import seaborn as sns\n",
        "import pandas as pd\n",
        "import matplotlib.pyplot as plt\n",
        "from sklearn.metrics import confusion_matrix\n",
        "from sklearn.metrics import precision_recall_fscore_support as score\n",
        "from sklearn.metrics import classification_report"
      ]
    },
    {
      "cell_type": "markdown",
      "metadata": {
        "id": "fhKTDU4mjYbp"
      },
      "source": [
        "Using regex we can extract the model predictions, to have an easier to read format:"
      ]
    },
    {
      "cell_type": "code",
      "execution_count": null,
      "metadata": {
        "id": "-VnDuuaRjYbp"
      },
      "outputs": [],
      "source": [
        "%%bigquery --project $PROJECT\n",
        "SELECT\n",
        "  model,\n",
        "  model_version,\n",
        "  time,\n",
        "  REGEXP_EXTRACT(raw_data, r'.*\"text\": \"(.*)\"') AS text,\n",
        "  REGEXP_EXTRACT(raw_prediction, r'.*\"source\": \"(.*?)\"') AS prediction,\n",
        "  REGEXP_EXTRACT(raw_prediction, r'.*\"confidence\": (0.\\d{2}).*') AS confidence,\n",
        "  REGEXP_EXTRACT(groundtruth, r'.*\"source\": \"(.*?)\"') AS groundtruth,\n",
        "FROM\n",
        "  `txtcls_eval.swivel`"
      ]
    },
    {
      "cell_type": "code",
      "execution_count": null,
      "metadata": {
        "id": "I9ZKsgmajYbp"
      },
      "outputs": [],
      "source": [
        "query = '''\n",
        "SELECT\n",
        "  model,\n",
        "  model_version,\n",
        "  time,\n",
        "  REGEXP_EXTRACT(raw_data, r'.*\"text\": \"(.*)\"') AS text,\n",
        "  REGEXP_EXTRACT(raw_prediction, r'.*\"source\": \"(.*?)\"') AS prediction,\n",
        "  REGEXP_EXTRACT(raw_prediction, r'.*\"confidence\": (0.\\d{2}).*') AS confidence,\n",
        "  REGEXP_EXTRACT(groundtruth, r'.*\"source\": \"(.*?)\"') AS groundtruth,\n",
        "FROM\n",
        "  `txtcls_eval.swivel`\n",
        "'''\n",
        "\n",
        "client = bigquery.Client()\n",
        "df_results = client.query(query).to_dataframe()"
      ]
    },
    {
      "cell_type": "code",
      "execution_count": null,
      "metadata": {
        "id": "m0iJh_sEjYbp"
      },
      "outputs": [],
      "source": [
        "df_results.head(20)"
      ]
    },
    {
      "cell_type": "code",
      "execution_count": null,
      "metadata": {
        "id": "lMIfz0sQjYbp"
      },
      "outputs": [],
      "source": [
        "prediction = list(df_results.prediction)\n",
        "groundtruth = list(df_results.groundtruth)"
      ]
    },
    {
      "cell_type": "code",
      "execution_count": null,
      "metadata": {
        "id": "MrWbOn-IjYbp"
      },
      "outputs": [],
      "source": [
        "precision, recall, fscore, support = score(groundtruth, prediction)"
      ]
    },
    {
      "cell_type": "code",
      "execution_count": null,
      "metadata": {
        "id": "Ocwj-88rjYbp"
      },
      "outputs": [],
      "source": [
        "from tabulate import tabulate\n",
        "sources = list(CLASSES.keys())\n",
        "results = list(zip(sources, precision, recall, fscore, support))\n",
        "print(tabulate(results, headers = ['source', 'precision', 'recall', 'fscore', 'support'],\n",
        "         tablefmt='orgtbl'))"
      ]
    },
    {
      "cell_type": "markdown",
      "metadata": {
        "id": "rko3G-2PjYbq"
      },
      "source": [
        "Or a full classification report from the sklearn library:"
      ]
    },
    {
      "cell_type": "code",
      "execution_count": null,
      "metadata": {
        "id": "TrkMlxwkjYbq"
      },
      "outputs": [],
      "source": [
        "print(classification_report(y_true=groundtruth, y_pred=prediction))"
      ]
    },
    {
      "cell_type": "markdown",
      "metadata": {
        "id": "u-eXV2dzjYbq"
      },
      "source": [
        "Can also examine a confusion matrix:"
      ]
    },
    {
      "cell_type": "code",
      "execution_count": null,
      "metadata": {
        "id": "D4eet_v5jYbq"
      },
      "outputs": [],
      "source": [
        "cm = confusion_matrix(groundtruth, prediction, labels=sources)\n",
        "\n",
        "ax= plt.subplot()\n",
        "sns.heatmap(cm, annot=True, ax = ax, cmap=\"Blues\")\n",
        "\n",
        "# labels, title and ticks\n",
        "ax.set_xlabel('Predicted labels')\n",
        "ax.set_ylabel('True labels')\n",
        "ax.set_title('Confusion Matrix') \n",
        "ax.xaxis.set_ticklabels(sources)\n",
        "ax.yaxis.set_ticklabels(sources)\n",
        "plt.savefig(\"./txtcls_cm.png\")"
      ]
    },
    {
      "cell_type": "markdown",
      "metadata": {
        "id": "-bN_49hJjYbq"
      },
      "source": [
        "## Examine eval metrics by model version or timestamp"
      ]
    },
    {
      "cell_type": "markdown",
      "metadata": {
        "id": "SaYqHZY8jYbq"
      },
      "source": [
        "By specifying the same evaluation table, two different model versions can be evaluated. Also, since the timestamp is captured, it is straightforward to evaluation model performance over time. "
      ]
    },
    {
      "cell_type": "code",
      "execution_count": null,
      "metadata": {
        "id": "s_4PauFHjYbq"
      },
      "outputs": [],
      "source": [
        "now = pd.Timestamp.now(tz='UTC')\n",
        "one_week_ago = now - pd.DateOffset(weeks=1)\n",
        "one_month_ago = now - pd.DateOffset(months=1)"
      ]
    },
    {
      "cell_type": "code",
      "execution_count": null,
      "metadata": {
        "id": "BojD6eu9jYbq"
      },
      "outputs": [],
      "source": [
        "df_prev_week = df_results[df_results.time > one_week_ago]\n",
        "df_prev_month = df_results[df_results.time > one_month_ago]"
      ]
    },
    {
      "cell_type": "code",
      "execution_count": null,
      "metadata": {
        "id": "B625gerhjYbq"
      },
      "outputs": [],
      "source": [
        "df_prev_month"
      ]
    },
    {
      "cell_type": "markdown",
      "metadata": {
        "id": "27xWtOrUjYbq"
      },
      "source": [
        "Copyright 2020 Google Inc. Licensed under the Apache License, Version 2.0 (the \"License\"); you may not use this file except in compliance with the License. You may obtain a copy of the License at http://www.apache.org/licenses/LICENSE-2.0 Unless required by applicable law or agreed to in writing, software distributed under the License is distributed on an \"AS IS\" BASIS, WITHOUT WARRANTIES OR CONDITIONS OF ANY KIND, either express or implied. See the License for the specific language governing permissions and limitations under the License"
      ]
    }
  ],
  "metadata": {
    "colab": {
      "collapsed_sections": [
        "AdXazy8PjYbl",
        "RORs-KagjYbl",
        "jIQNfoxijYbn",
        "ONOPxDO7jYbn",
        "t-dCdT1djYbn",
        "Uky3zHn-jYbp",
        "-sCn8b89jYbp",
        "-bN_49hJjYbq"
      ],
      "provenance": []
    },
    "environment": {
      "name": "tf2-gpu.2-1.m50",
      "type": "gcloud",
      "uri": "gcr.io/deeplearning-platform-release/tf2-gpu.2-1:m50"
    },
    "kernelspec": {
      "display_name": "Python 3.8.9 64-bit",
      "language": "python",
      "name": "python3"
    },
    "language_info": {
      "codemirror_mode": {
        "name": "ipython",
        "version": 3
      },
      "file_extension": ".py",
      "mimetype": "text/x-python",
      "name": "python",
      "nbconvert_exporter": "python",
      "pygments_lexer": "ipython3",
      "version": "3.8.9"
    },
    "vscode": {
      "interpreter": {
        "hash": "31f2aee4e71d21fbe5cf8b01ff0e069b9275f58929596ceb00d14d90e3e16cd6"
      }
    }
  },
  "nbformat": 4,
  "nbformat_minor": 0
}